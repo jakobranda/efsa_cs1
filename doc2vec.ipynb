{
 "cells": [
  {
   "cell_type": "markdown",
   "id": "7b38cc46-7fbb-4f0c-b42e-bdd8c3211674",
   "metadata": {},
   "source": [
    "# Requirements"
   ]
  },
  {
   "cell_type": "code",
   "execution_count": 1,
   "id": "2b0ba361-06d5-4f78-9b3a-b30442f7c8e2",
   "metadata": {
    "tags": []
   },
   "outputs": [
    {
     "name": "stderr",
     "output_type": "stream",
     "text": [
      "2023-01-25 13:29:09,447 : INFO : NumExpr defaulting to 8 threads.\n"
     ]
    }
   ],
   "source": [
    "import collections\n",
    "import gensim\n",
    "import logging\n",
    "logging.basicConfig(format='%(asctime)s : %(levelname)s : %(message)s',\n",
    "                    level=logging.INFO)\n",
    "import numpy as np\n",
    "import pandas as pd\n",
    "import pathlib\n",
    "import pickle\n",
    "import random\n",
    "import sys\n",
    "#import xgboost as xgb"
   ]
  },
  {
   "cell_type": "code",
   "execution_count": 2,
   "id": "ae1e25f5-1fca-4d8c-8ac5-fc5a6076c73b",
   "metadata": {},
   "outputs": [],
   "source": [
    "sys.path.append('lib')"
   ]
  },
  {
   "cell_type": "code",
   "execution_count": 3,
   "id": "be045e93-e4b3-4cdc-a84b-d05a9248474e",
   "metadata": {},
   "outputs": [],
   "source": [
    "%load_ext autoreload\n",
    "%autoreload 2"
   ]
  },
  {
   "cell_type": "code",
   "execution_count": 5,
   "id": "c431d859-429e-4242-8da7-24a60e2f4063",
   "metadata": {},
   "outputs": [],
   "source": [
    "import preprocessing"
   ]
  },
  {
   "cell_type": "code",
   "execution_count": null,
   "id": "0da70428",
   "metadata": {},
   "outputs": [],
   "source": []
  },
  {
   "cell_type": "markdown",
   "id": "b954da68-ee69-4677-85af-bde24721db2f",
   "metadata": {},
   "source": [
    "# Data preparation"
   ]
  },
  {
   "cell_type": "markdown",
   "id": "c719fc41-cc1d-4531-8fe8-e345c8a751ce",
   "metadata": {},
   "source": [
    "As usual, we need a function to split the data into a training and a test set.  Since this is just an experiment, we split unstratified."
   ]
  },
  {
   "cell_type": "code",
   "execution_count": 6,
   "id": "8b9c92ad-daca-4d6a-8688-911ce1058fdd",
   "metadata": {},
   "outputs": [],
   "source": [
    "\n",
    "def split_data(directory, file_pattern, test_fraction=0.2):\n",
    "    print(\"Bollocks\")\n",
    "    train_data, test_data = [], []\n",
    "    for tag, file in enumerate(directory.glob(file_pattern)):\n",
    "        print(tag)\n",
    "        text = open(file, 'r').read().split()\n",
    "        if random.random() < test_fraction:\n",
    "            test_data.append(text)\n",
    "        else:\n",
    "            document = gensim.models.doc2vec.TaggedDocument(text, [tag])\n",
    "            train_data.append(document)\n",
    "    return train_data, test_data"
   ]
  },
  {
   "cell_type": "code",
   "execution_count": 8,
   "id": "3cddf4a8-5dc0-492e-a660-b2ce449892e7",
   "metadata": {},
   "outputs": [
    {
     "name": "stdout",
     "output_type": "stream",
     "text": [
      "jklf\n",
      "Bollocks\n"
     ]
    }
   ],
   "source": [
    "print(\"jklf\")\n",
    "input_dir = pathlib.Path('data/2-papers-text/')\n",
    "train_data, test_data = split_data(input_dir, 'processed_*.txt')"
   ]
  },
  {
   "cell_type": "code",
   "execution_count": 4,
   "id": "ef02117a-e147-4bf8-95d5-dee7fe960994",
   "metadata": {},
   "outputs": [
    {
     "data": {
      "text/plain": [
       "(603, 145)"
      ]
     },
     "execution_count": 4,
     "metadata": {},
     "output_type": "execute_result"
    }
   ],
   "source": [
    "len(train_data), len(test_data)"
   ]
  },
  {
   "cell_type": "markdown",
   "id": "9b95aba6-625e-4904-9744-5be36d2b5f82",
   "metadata": {},
   "source": [
    "# Model training"
   ]
  },
  {
   "cell_type": "markdown",
   "id": "7fb502c2-12fa-4302-91ae-8f87cb05650e",
   "metadata": {},
   "source": [
    "Documents are quite long, so we choose a vector representation of 50 elements, and a minimum word count of 4.  We train for 40 epochs."
   ]
  },
  {
   "cell_type": "code",
   "execution_count": 5,
   "id": "69f6ef88-f442-4d60-8b51-497301532fa7",
   "metadata": {},
   "outputs": [
    {
     "name": "stderr",
     "output_type": "stream",
     "text": [
      "2023-01-10 14:53:59,446 : INFO : Doc2Vec lifecycle event {'params': 'Doc2Vec<dm/m,d50,n5,w5,mc4,s0.001,t3>', 'datetime': '2023-01-10T14:53:59.446469', 'gensim': '4.3.0', 'python': '3.10.8 | packaged by conda-forge | (main, Nov 22 2022, 08:26:04) [GCC 10.4.0]', 'platform': 'Linux-5.15.79.1-microsoft-standard-WSL2-x86_64-with-glibc2.35', 'event': 'created'}\n"
     ]
    }
   ],
   "source": [
    "model = gensim.models.doc2vec.Doc2Vec(\n",
    "    vector_size=50,\n",
    "    min_count=4,\n",
    "    epochs=40\n",
    ")"
   ]
  },
  {
   "cell_type": "markdown",
   "id": "ca864cce-2e9a-4995-986b-b1acd13f2b27",
   "metadata": {},
   "source": [
    "We build the vocabulary of the model."
   ]
  },
  {
   "cell_type": "code",
   "execution_count": 6,
   "id": "f48e1674-1f50-43a4-8837-280162c3d6a5",
   "metadata": {},
   "outputs": [
    {
     "name": "stderr",
     "output_type": "stream",
     "text": [
      "2023-01-10 14:54:03,480 : INFO : collecting all words and their counts\n",
      "2023-01-10 14:54:03,483 : INFO : PROGRESS: at example #0, processed 0 words (0 words/s), 0 word types, 0 tags\n",
      "2023-01-10 14:54:03,951 : WARNING : Highest int doctag (747) larger than count of documents (603). This means at least 144 excess, unused slots (28800 bytes) will be allocated for vectors.\n",
      "2023-01-10 14:54:03,952 : INFO : collected 63879 word types and 748 unique tags from a corpus of 603 examples and 4943092 words\n",
      "2023-01-10 14:54:03,952 : INFO : Creating a fresh vocabulary\n",
      "2023-01-10 14:54:04,029 : INFO : Doc2Vec lifecycle event {'msg': 'effective_min_count=4 retains 23945 unique words (37.48% of original 63879, drops 39934)', 'datetime': '2023-01-10T14:54:04.029692', 'gensim': '4.3.0', 'python': '3.10.8 | packaged by conda-forge | (main, Nov 22 2022, 08:26:04) [GCC 10.4.0]', 'platform': 'Linux-5.15.79.1-microsoft-standard-WSL2-x86_64-with-glibc2.35', 'event': 'prepare_vocab'}\n",
      "2023-01-10 14:54:04,030 : INFO : Doc2Vec lifecycle event {'msg': 'effective_min_count=4 leaves 4883011 word corpus (98.78% of original 4943092, drops 60081)', 'datetime': '2023-01-10T14:54:04.030721', 'gensim': '4.3.0', 'python': '3.10.8 | packaged by conda-forge | (main, Nov 22 2022, 08:26:04) [GCC 10.4.0]', 'platform': 'Linux-5.15.79.1-microsoft-standard-WSL2-x86_64-with-glibc2.35', 'event': 'prepare_vocab'}\n",
      "2023-01-10 14:54:04,098 : INFO : deleting the raw counts dictionary of 63879 items\n",
      "2023-01-10 14:54:04,100 : INFO : sample=0.001 downsamples 40 most-common words\n",
      "2023-01-10 14:54:04,101 : INFO : Doc2Vec lifecycle event {'msg': 'downsampling leaves estimated 4571063.331431153 word corpus (93.6%% of prior 4883011)', 'datetime': '2023-01-10T14:54:04.101890', 'gensim': '4.3.0', 'python': '3.10.8 | packaged by conda-forge | (main, Nov 22 2022, 08:26:04) [GCC 10.4.0]', 'platform': 'Linux-5.15.79.1-microsoft-standard-WSL2-x86_64-with-glibc2.35', 'event': 'prepare_vocab'}\n",
      "2023-01-10 14:54:04,216 : INFO : estimated required memory for 23945 words and 50 dimensions: 21849700 bytes\n",
      "2023-01-10 14:54:04,217 : INFO : resetting layer weights\n"
     ]
    }
   ],
   "source": [
    "model.build_vocab(train_data)"
   ]
  },
  {
   "cell_type": "markdown",
   "id": "d8b4ce78-f266-47e0-84a4-3368f21a2c6a",
   "metadata": {},
   "source": [
    "We train the model on the training data."
   ]
  },
  {
   "cell_type": "code",
   "execution_count": 7,
   "id": "af6c26ae-bbc9-478b-a5d9-28745d4691e2",
   "metadata": {},
   "outputs": [
    {
     "name": "stderr",
     "output_type": "stream",
     "text": [
      "2023-01-10 14:54:06,126 : INFO : Doc2Vec lifecycle event {'msg': 'training model with 3 workers on 23945 vocabulary and 50 features, using sg=0 hs=0 sample=0.001 negative=5 window=5 shrink_windows=True', 'datetime': '2023-01-10T14:54:06.126092', 'gensim': '4.3.0', 'python': '3.10.8 | packaged by conda-forge | (main, Nov 22 2022, 08:26:04) [GCC 10.4.0]', 'platform': 'Linux-5.15.79.1-microsoft-standard-WSL2-x86_64-with-glibc2.35', 'event': 'train'}\n",
      "2023-01-10 14:54:07,133 : INFO : EPOCH 0 - PROGRESS: at 71.97% examples, 2422533 words/s, in_qsize 5, out_qsize 0\n",
      "2023-01-10 14:54:07,487 : INFO : EPOCH 0: training on 4943092 raw words (3319262 effective words) took 1.4s, 2446433 effective words/s\n",
      "2023-01-10 14:54:08,495 : INFO : EPOCH 1 - PROGRESS: at 69.32% examples, 2350114 words/s, in_qsize 5, out_qsize 0\n",
      "2023-01-10 14:54:08,903 : INFO : EPOCH 1: training on 4943092 raw words (3318896 effective words) took 1.4s, 2349733 effective words/s\n",
      "2023-01-10 14:54:09,909 : INFO : EPOCH 2 - PROGRESS: at 70.81% examples, 2386732 words/s, in_qsize 6, out_qsize 0\n",
      "2023-01-10 14:54:10,280 : INFO : EPOCH 2: training on 4943092 raw words (3319014 effective words) took 1.4s, 2416532 effective words/s\n",
      "2023-01-10 14:54:11,283 : INFO : EPOCH 3 - PROGRESS: at 75.95% examples, 2578870 words/s, in_qsize 6, out_qsize 0\n",
      "2023-01-10 14:54:11,585 : INFO : EPOCH 3: training on 4943092 raw words (3319297 effective words) took 1.3s, 2547712 effective words/s\n",
      "2023-01-10 14:54:12,590 : INFO : EPOCH 4 - PROGRESS: at 74.30% examples, 2502376 words/s, in_qsize 5, out_qsize 1\n",
      "2023-01-10 14:54:12,933 : INFO : EPOCH 4: training on 4943092 raw words (3319437 effective words) took 1.3s, 2464998 effective words/s\n",
      "2023-01-10 14:54:13,937 : INFO : EPOCH 5 - PROGRESS: at 69.15% examples, 2353606 words/s, in_qsize 5, out_qsize 0\n",
      "2023-01-10 14:54:14,365 : INFO : EPOCH 5: training on 4943092 raw words (3318954 effective words) took 1.4s, 2321914 effective words/s\n",
      "2023-01-10 14:54:15,370 : INFO : EPOCH 6 - PROGRESS: at 71.97% examples, 2423985 words/s, in_qsize 5, out_qsize 0\n",
      "2023-01-10 14:54:15,753 : INFO : EPOCH 6: training on 4943092 raw words (3319126 effective words) took 1.4s, 2397835 effective words/s\n",
      "2023-01-10 14:54:16,756 : INFO : EPOCH 7 - PROGRESS: at 73.96% examples, 2490967 words/s, in_qsize 5, out_qsize 0\n",
      "2023-01-10 14:54:17,094 : INFO : EPOCH 7: training on 4943092 raw words (3319650 effective words) took 1.3s, 2478513 effective words/s\n",
      "2023-01-10 14:54:18,096 : INFO : EPOCH 8 - PROGRESS: at 73.30% examples, 2476446 words/s, in_qsize 6, out_qsize 0\n",
      "2023-01-10 14:54:18,436 : INFO : EPOCH 8: training on 4943092 raw words (3318859 effective words) took 1.3s, 2476827 effective words/s\n",
      "2023-01-10 14:54:19,439 : INFO : EPOCH 9 - PROGRESS: at 72.97% examples, 2464794 words/s, in_qsize 5, out_qsize 0\n",
      "2023-01-10 14:54:19,766 : INFO : EPOCH 9: training on 4943092 raw words (3318901 effective words) took 1.3s, 2497923 effective words/s\n",
      "2023-01-10 14:54:20,772 : INFO : EPOCH 10 - PROGRESS: at 74.30% examples, 2496682 words/s, in_qsize 5, out_qsize 0\n",
      "2023-01-10 14:54:21,082 : INFO : EPOCH 10: training on 4943092 raw words (3319269 effective words) took 1.3s, 2526927 effective words/s\n",
      "2023-01-10 14:54:22,087 : INFO : EPOCH 11 - PROGRESS: at 75.62% examples, 2560608 words/s, in_qsize 5, out_qsize 0\n",
      "2023-01-10 14:54:22,397 : INFO : EPOCH 11: training on 4943092 raw words (3319322 effective words) took 1.3s, 2529756 effective words/s\n",
      "2023-01-10 14:54:23,400 : INFO : EPOCH 12 - PROGRESS: at 74.63% examples, 2522665 words/s, in_qsize 5, out_qsize 0\n",
      "2023-01-10 14:54:23,704 : INFO : EPOCH 12: training on 4943092 raw words (3318987 effective words) took 1.3s, 2543763 effective words/s\n",
      "2023-01-10 14:54:24,713 : INFO : EPOCH 13 - PROGRESS: at 76.95% examples, 2598484 words/s, in_qsize 5, out_qsize 0\n",
      "2023-01-10 14:54:24,994 : INFO : EPOCH 13: training on 4943092 raw words (3318845 effective words) took 1.3s, 2581166 effective words/s\n",
      "2023-01-10 14:54:25,997 : INFO : EPOCH 14 - PROGRESS: at 74.13% examples, 2497656 words/s, in_qsize 5, out_qsize 0\n",
      "2023-01-10 14:54:26,328 : INFO : EPOCH 14: training on 4943092 raw words (3318567 effective words) took 1.3s, 2490902 effective words/s\n",
      "2023-01-10 14:54:27,331 : INFO : EPOCH 15 - PROGRESS: at 75.62% examples, 2560492 words/s, in_qsize 5, out_qsize 0\n",
      "2023-01-10 14:54:27,624 : INFO : EPOCH 15: training on 4943092 raw words (3318954 effective words) took 1.3s, 2565327 effective words/s\n",
      "2023-01-10 14:54:28,629 : INFO : EPOCH 16 - PROGRESS: at 75.29% examples, 2544815 words/s, in_qsize 5, out_qsize 0\n",
      "2023-01-10 14:54:28,930 : INFO : EPOCH 16: training on 4943092 raw words (3319028 effective words) took 1.3s, 2545225 effective words/s\n",
      "2023-01-10 14:54:29,932 : INFO : EPOCH 17 - PROGRESS: at 72.80% examples, 2460175 words/s, in_qsize 5, out_qsize 0\n",
      "2023-01-10 14:54:30,284 : INFO : EPOCH 17: training on 4943092 raw words (3318779 effective words) took 1.4s, 2453619 effective words/s\n",
      "2023-01-10 14:54:31,293 : INFO : EPOCH 18 - PROGRESS: at 72.31% examples, 2427180 words/s, in_qsize 5, out_qsize 0\n",
      "2023-01-10 14:54:31,649 : INFO : EPOCH 18: training on 4943092 raw words (3319293 effective words) took 1.4s, 2436724 effective words/s\n",
      "2023-01-10 14:54:32,651 : INFO : EPOCH 19 - PROGRESS: at 72.31% examples, 2441556 words/s, in_qsize 5, out_qsize 0\n",
      "2023-01-10 14:54:33,011 : INFO : EPOCH 19: training on 4943092 raw words (3319369 effective words) took 1.4s, 2439072 effective words/s\n",
      "2023-01-10 14:54:34,013 : INFO : EPOCH 20 - PROGRESS: at 73.80% examples, 2490056 words/s, in_qsize 5, out_qsize 0\n",
      "2023-01-10 14:54:34,357 : INFO : EPOCH 20: training on 4943092 raw words (3319677 effective words) took 1.3s, 2469609 effective words/s\n",
      "2023-01-10 14:54:35,360 : INFO : EPOCH 21 - PROGRESS: at 71.97% examples, 2427446 words/s, in_qsize 5, out_qsize 0\n",
      "2023-01-10 14:54:35,714 : INFO : EPOCH 21: training on 4943092 raw words (3319112 effective words) took 1.4s, 2450758 effective words/s\n",
      "2023-01-10 14:54:36,725 : INFO : EPOCH 22 - PROGRESS: at 76.12% examples, 2566384 words/s, in_qsize 5, out_qsize 0\n",
      "2023-01-10 14:54:37,019 : INFO : EPOCH 22: training on 4943092 raw words (3319192 effective words) took 1.3s, 2548396 effective words/s\n",
      "2023-01-10 14:54:38,025 : INFO : EPOCH 23 - PROGRESS: at 74.63% examples, 2516819 words/s, in_qsize 5, out_qsize 1\n",
      "2023-01-10 14:54:38,325 : INFO : EPOCH 23: training on 4943092 raw words (3319388 effective words) took 1.3s, 2546593 effective words/s\n",
      "2023-01-10 14:54:39,329 : INFO : EPOCH 24 - PROGRESS: at 74.96% examples, 2533747 words/s, in_qsize 5, out_qsize 0\n",
      "2023-01-10 14:54:39,649 : INFO : EPOCH 24: training on 4943092 raw words (3318721 effective words) took 1.3s, 2511830 effective words/s\n",
      "2023-01-10 14:54:40,653 : INFO : EPOCH 25 - PROGRESS: at 72.97% examples, 2464086 words/s, in_qsize 5, out_qsize 0\n",
      "2023-01-10 14:54:40,995 : INFO : EPOCH 25: training on 4943092 raw words (3319495 effective words) took 1.3s, 2470068 effective words/s\n",
      "2023-01-10 14:54:41,998 : INFO : EPOCH 26 - PROGRESS: at 74.63% examples, 2522402 words/s, in_qsize 6, out_qsize 0\n",
      "2023-01-10 14:54:42,379 : INFO : EPOCH 26: training on 4943092 raw words (3319027 effective words) took 1.4s, 2402555 effective words/s\n",
      "2023-01-10 14:54:43,383 : INFO : EPOCH 27 - PROGRESS: at 71.14% examples, 2407031 words/s, in_qsize 6, out_qsize 0\n",
      "2023-01-10 14:54:43,757 : INFO : EPOCH 27: training on 4943092 raw words (3318582 effective words) took 1.4s, 2414759 effective words/s\n",
      "2023-01-10 14:54:44,762 : INFO : EPOCH 28 - PROGRESS: at 74.30% examples, 2506154 words/s, in_qsize 5, out_qsize 1\n",
      "2023-01-10 14:54:45,080 : INFO : EPOCH 28: training on 4943092 raw words (3319224 effective words) took 1.3s, 2517799 effective words/s\n",
      "2023-01-10 14:54:46,085 : INFO : EPOCH 29 - PROGRESS: at 75.29% examples, 2544539 words/s, in_qsize 5, out_qsize 0\n",
      "2023-01-10 14:54:46,406 : INFO : EPOCH 29: training on 4943092 raw words (3319176 effective words) took 1.3s, 2506870 effective words/s\n",
      "2023-01-10 14:54:47,409 : INFO : EPOCH 30 - PROGRESS: at 74.46% examples, 2513786 words/s, in_qsize 5, out_qsize 0\n",
      "2023-01-10 14:54:47,721 : INFO : EPOCH 30: training on 4943092 raw words (3319335 effective words) took 1.3s, 2527427 effective words/s\n",
      "2023-01-10 14:54:48,727 : INFO : EPOCH 31 - PROGRESS: at 72.31% examples, 2434776 words/s, in_qsize 5, out_qsize 0\n",
      "2023-01-10 14:54:49,073 : INFO : EPOCH 31: training on 4943092 raw words (3318949 effective words) took 1.3s, 2459692 effective words/s\n",
      "2023-01-10 14:54:50,078 : INFO : EPOCH 32 - PROGRESS: at 75.62% examples, 2563740 words/s, in_qsize 6, out_qsize 0\n",
      "2023-01-10 14:54:50,375 : INFO : EPOCH 32: training on 4943092 raw words (3319399 effective words) took 1.3s, 2552595 effective words/s\n",
      "2023-01-10 14:54:51,378 : INFO : EPOCH 33 - PROGRESS: at 75.12% examples, 2548179 words/s, in_qsize 5, out_qsize 0\n",
      "2023-01-10 14:54:51,702 : INFO : EPOCH 33: training on 4943092 raw words (3319642 effective words) took 1.3s, 2506145 effective words/s\n",
      "2023-01-10 14:54:52,705 : INFO : EPOCH 34 - PROGRESS: at 74.30% examples, 2504982 words/s, in_qsize 5, out_qsize 0\n",
      "2023-01-10 14:54:53,039 : INFO : EPOCH 34: training on 4943092 raw words (3319746 effective words) took 1.3s, 2486341 effective words/s\n",
      "2023-01-10 14:54:54,041 : INFO : EPOCH 35 - PROGRESS: at 74.46% examples, 2515475 words/s, in_qsize 6, out_qsize 0\n",
      "2023-01-10 14:54:54,354 : INFO : EPOCH 35: training on 4943092 raw words (3318873 effective words) took 1.3s, 2527614 effective words/s\n",
      "2023-01-10 14:54:55,359 : INFO : EPOCH 36 - PROGRESS: at 75.29% examples, 2545385 words/s, in_qsize 5, out_qsize 0\n",
      "2023-01-10 14:54:55,661 : INFO : EPOCH 36: training on 4943092 raw words (3318860 effective words) took 1.3s, 2543107 effective words/s\n",
      "2023-01-10 14:54:56,666 : INFO : EPOCH 37 - PROGRESS: at 74.30% examples, 2499274 words/s, in_qsize 5, out_qsize 0\n",
      "2023-01-10 14:54:56,995 : INFO : EPOCH 37: training on 4943092 raw words (3318917 effective words) took 1.3s, 2491226 effective words/s\n",
      "2023-01-10 14:54:57,999 : INFO : EPOCH 38 - PROGRESS: at 75.46% examples, 2555078 words/s, in_qsize 5, out_qsize 0\n",
      "2023-01-10 14:54:58,309 : INFO : EPOCH 38: training on 4943092 raw words (3318973 effective words) took 1.3s, 2530547 effective words/s\n",
      "2023-01-10 14:54:59,311 : INFO : EPOCH 39 - PROGRESS: at 71.81% examples, 2421795 words/s, in_qsize 5, out_qsize 0\n",
      "2023-01-10 14:54:59,659 : INFO : EPOCH 39: training on 4943092 raw words (3318911 effective words) took 1.3s, 2460850 effective words/s\n",
      "2023-01-10 14:54:59,660 : INFO : Doc2Vec lifecycle event {'msg': 'training on 197723680 raw words (132765008 effective words) took 53.5s, 2480121 effective words/s', 'datetime': '2023-01-10T14:54:59.660788', 'gensim': '4.3.0', 'python': '3.10.8 | packaged by conda-forge | (main, Nov 22 2022, 08:26:04) [GCC 10.4.0]', 'platform': 'Linux-5.15.79.1-microsoft-standard-WSL2-x86_64-with-glibc2.35', 'event': 'train'}\n"
     ]
    }
   ],
   "source": [
    "model.train(train_data,\n",
    "            total_examples=model.corpus_count,\n",
    "            epochs=model.epochs)"
   ]
  },
  {
   "cell_type": "markdown",
   "id": "22aea1d3-d77a-41d5-a2db-91a4b40bed3a",
   "metadata": {},
   "source": [
    "Save the model to a file for later usage."
   ]
  },
  {
   "cell_type": "code",
   "execution_count": 8,
   "id": "8927d70d-73da-427d-8c13-40aca10c5034",
   "metadata": {},
   "outputs": [],
   "source": [
    "with open('data/doc2vec_model.pickle', 'wb') as file:\n",
    "    pickle.dump(model, file)"
   ]
  },
  {
   "cell_type": "markdown",
   "id": "00c6bf78-5aac-4902-b141-86aceee40835",
   "metadata": {},
   "source": [
    "# Evaluation"
   ]
  },
  {
   "cell_type": "code",
   "execution_count": null,
   "id": "b83d20e3-e106-49c0-a6b0-5eae30373418",
   "metadata": {},
   "outputs": [],
   "source": [
    "with open('data/doc2vec_model.pickle', 'rb') as file:\n",
    "    model = pickle.load(file)"
   ]
  },
  {
   "cell_type": "markdown",
   "id": "6decb0d8-8307-406f-b5a6-959f3619e589",
   "metadata": {},
   "source": [
    "To evaluate the model, we compute the inferred vector for each document, and based on that retrieve the most similar documents ranked by similarity.  The model can be considered sane if the document is most similar to itself.\n",
    "\n",
    "Note that overfitting is a risk here."
   ]
  },
  {
   "cell_type": "code",
   "execution_count": 9,
   "id": "705ac959-5ee8-4db3-a9f5-9d0bd66fdb26",
   "metadata": {},
   "outputs": [],
   "source": [
    "ranks = []\n",
    "second_ranks = []\n",
    "for doc_nr in range(len(train_data)):\n",
    "    inferred_vector = model.infer_vector(train_data[doc_nr].words)\n",
    "    doc_id = train_data[doc_nr].tags[0]\n",
    "    sims = model.dv.most_similar([inferred_vector], topn=len(model.dv))\n",
    "    rank = [docid for docid, sim in sims].index(doc_id)\n",
    "    ranks.append(rank)\n",
    "\n",
    "    second_ranks.append(sims[1])"
   ]
  },
  {
   "cell_type": "code",
   "execution_count": 10,
   "id": "385339f8-3569-4d43-91d1-6c8a7ef10736",
   "metadata": {},
   "outputs": [
    {
     "name": "stdout",
     "output_type": "stream",
     "text": [
      "  0: 595\n",
      "  1:   6\n",
      "  2:   2\n"
     ]
    }
   ],
   "source": [
    "counter = collections.Counter(ranks)\n",
    "for rank in sorted(counter.keys()):\n",
    "    print(f'{rank:3d}: {counter[rank]:3d}')"
   ]
  },
  {
   "cell_type": "markdown",
   "id": "17a6f076-ce2e-4668-8211-be61923b6257",
   "metadata": {},
   "source": [
    "It is clear that the model performs well on the training data."
   ]
  },
  {
   "cell_type": "markdown",
   "id": "f0adb231-e748-4547-9857-67dcb49ed30c",
   "metadata": {},
   "source": [
    "# Document vectors"
   ]
  },
  {
   "cell_type": "markdown",
   "id": "0b940b76-236a-4e0c-b1aa-f28b329a46c2",
   "metadata": {},
   "source": [
    "The document vectors will serve as input for classification tasks, so we generate the vector for each documents."
   ]
  },
  {
   "cell_type": "code",
   "execution_count": 12,
   "id": "28ec5c59-b1a5-422b-b85e-7b72261c08da",
   "metadata": {},
   "outputs": [],
   "source": [
    "output_dir = pathlib.Path('data/7-doc-vectors')\n",
    "if not output_dir.exists():\n",
    "    output_dir.mkdir()"
   ]
  },
  {
   "cell_type": "code",
   "execution_count": 17,
   "id": "14fc4149-ef48-45b4-9847-1b2c5aaf342b",
   "metadata": {},
   "outputs": [],
   "source": [
    "input_dir = pathlib.Path('data/2-papers-text/')\n",
    "for file in input_dir.glob('processed_*.txt'):\n",
    "    text = open(file, 'r').read().split()\n",
    "    doc_vector = model.infer_vector(text)\n",
    "    with open(output_dir / file.name.replace('processed_', ''), 'w') as out_file:\n",
    "        np.savetxt(out_file, doc_vector)"
   ]
  },
  {
   "cell_type": "code",
   "execution_count": 24,
   "id": "ab89220e-fbed-4622-b225-869b47ebad3b",
   "metadata": {},
   "outputs": [],
   "source": [
    "nr_files = len(list(output_dir.glob('*.txt')))"
   ]
  },
  {
   "cell_type": "code",
   "execution_count": 26,
   "id": "b523dfa6-6efe-48ad-bc8f-cd7df37e0c0b",
   "metadata": {},
   "outputs": [],
   "source": [
    "doc_vectors = np.empty((nr_files, model.vector_size))\n",
    "for i, file in enumerate(sorted(output_dir.glob('*.txt'))):\n",
    "    doc_vectors[i, :] = np.genfromtxt(file)\n",
    "np.savetxt('data/doc2vec_vectors.txt', doc_vectors)"
   ]
  },
  {
   "cell_type": "markdown",
   "id": "bc57ae0a-922e-4b37-8d79-a8fa233a21ef",
   "metadata": {},
   "source": [
    "# Meta data"
   ]
  },
  {
   "cell_type": "code",
   "execution_count": 30,
   "id": "d83b4d8b-3993-4a09-830b-e0de698cd55a",
   "metadata": {},
   "outputs": [],
   "source": [
    "doc_vectors = np.genfromtxt('data/doc2vec_vectors.txt')"
   ]
  },
  {
   "cell_type": "code",
   "execution_count": 22,
   "id": "85a43454-2b2e-4c2d-9dbc-67e2efcc6498",
   "metadata": {},
   "outputs": [],
   "source": [
    "metadata = pd.read_csv('data/metadata.csv')"
   ]
  },
  {
   "cell_type": "code",
   "execution_count": 42,
   "id": "7938698e-8dbc-4c23-baeb-5050c064e51c",
   "metadata": {},
   "outputs": [],
   "source": [
    "q1_train_data, q1_val_data, q1_test_data = preprocessing.create_datasets(doc_vectors, metadata, 'QuestionID', 1)"
   ]
  },
  {
   "cell_type": "code",
   "execution_count": 43,
   "id": "806842c4-009c-436d-907c-48ea7b0f806e",
   "metadata": {},
   "outputs": [],
   "source": [
    "evallist = [(q1_train_data, 'train'), (q1_val_data, 'eval')]"
   ]
  },
  {
   "cell_type": "markdown",
   "id": "eb9b0e40-5bf1-4bba-923c-ccd3cc165c3d",
   "metadata": {},
   "source": [
    "A number of hyperparameters can be specified.\n",
    "* `max_depth`: increases model complexity, hence potential overfitting.\n",
    "* `eta`: determines step size, when decreased, increase number of steps.\n",
    "* `nthread': number of threads to use for the learning process.\n",
    "* `eval_metric`: metric used to evaluate training and validation sets."
   ]
  },
  {
   "cell_type": "code",
   "execution_count": 44,
   "id": "52713422-f18d-4338-8c2f-8c4802a421c7",
   "metadata": {},
   "outputs": [],
   "source": [
    "param = {\n",
    "    'max_depth': 2,\n",
    "    'eta': 0.1,\n",
    "    'objective': 'binary:logistic',\n",
    "    'nthread': 4,\n",
    "    'eval_metric': 'auc',\n",
    "}\n",
    "nr_steps = 100"
   ]
  },
  {
   "cell_type": "markdown",
   "id": "c0bb6ab0-59cb-47f3-8294-b8dea772001e",
   "metadata": {},
   "source": [
    "In order to keep track of the training and validation error, we can define a dictionary to hold that information."
   ]
  },
  {
   "cell_type": "code",
   "execution_count": 45,
   "id": "7e16ae3c-f6f1-4c87-b7a4-49d856faaa45",
   "metadata": {},
   "outputs": [],
   "source": [
    "progress = {}"
   ]
  },
  {
   "cell_type": "markdown",
   "id": "82cb11cb-bed8-40ec-831c-2a0f14a13d63",
   "metadata": {},
   "source": [
    "Train the model."
   ]
  },
  {
   "cell_type": "code",
   "execution_count": 46,
   "id": "6693583e-65e6-4067-8cf0-6c70b82a9643",
   "metadata": {},
   "outputs": [
    {
     "name": "stdout",
     "output_type": "stream",
     "text": [
      "[0]\ttrain-auc:0.85767\teval-auc:0.79015\n",
      "[1]\ttrain-auc:0.90180\teval-auc:0.88460\n",
      "[2]\ttrain-auc:0.90198\teval-auc:0.88460\n",
      "[3]\ttrain-auc:0.90204\teval-auc:0.88460\n",
      "[4]\ttrain-auc:0.90725\teval-auc:0.88662\n",
      "[5]\ttrain-auc:0.93196\teval-auc:0.90732\n",
      "[6]\ttrain-auc:0.95306\teval-auc:0.90177\n",
      "[7]\ttrain-auc:0.95318\teval-auc:0.90227\n",
      "[8]\ttrain-auc:0.95663\teval-auc:0.91818\n",
      "[9]\ttrain-auc:0.95857\teval-auc:0.91692\n",
      "[10]\ttrain-auc:0.95937\teval-auc:0.91591\n",
      "[11]\ttrain-auc:0.95919\teval-auc:0.91591\n",
      "[12]\ttrain-auc:0.96204\teval-auc:0.91692\n",
      "[13]\ttrain-auc:0.97009\teval-auc:0.93232\n",
      "[14]\ttrain-auc:0.97497\teval-auc:0.93207\n",
      "[15]\ttrain-auc:0.97497\teval-auc:0.93106\n",
      "[16]\ttrain-auc:0.97440\teval-auc:0.94419\n",
      "[17]\ttrain-auc:0.97527\teval-auc:0.94520\n",
      "[18]\ttrain-auc:0.97627\teval-auc:0.94621\n",
      "[19]\ttrain-auc:0.97622\teval-auc:0.94722\n",
      "[20]\ttrain-auc:0.97598\teval-auc:0.95126\n",
      "[21]\ttrain-auc:0.97622\teval-auc:0.95252\n",
      "[22]\ttrain-auc:0.97667\teval-auc:0.95480\n",
      "[23]\ttrain-auc:0.97671\teval-auc:0.95505\n",
      "[24]\ttrain-auc:0.98053\teval-auc:0.95454\n",
      "[25]\ttrain-auc:0.98183\teval-auc:0.95909\n",
      "[26]\ttrain-auc:0.98445\teval-auc:0.96061\n",
      "[27]\ttrain-auc:0.98587\teval-auc:0.96061\n",
      "[28]\ttrain-auc:0.98692\teval-auc:0.96010\n",
      "[29]\ttrain-auc:0.98897\teval-auc:0.96364\n",
      "[30]\ttrain-auc:0.98937\teval-auc:0.96212\n",
      "[31]\ttrain-auc:0.98970\teval-auc:0.96364\n",
      "[32]\ttrain-auc:0.99115\teval-auc:0.96465\n",
      "[33]\ttrain-auc:0.99194\teval-auc:0.96818\n",
      "[34]\ttrain-auc:0.99268\teval-auc:0.96616\n",
      "[35]\ttrain-auc:0.99317\teval-auc:0.96869\n",
      "[36]\ttrain-auc:0.99412\teval-auc:0.96970\n",
      "[37]\ttrain-auc:0.99543\teval-auc:0.97525\n",
      "[38]\ttrain-auc:0.99559\teval-auc:0.97576\n",
      "[39]\ttrain-auc:0.99589\teval-auc:0.97475\n",
      "[40]\ttrain-auc:0.99651\teval-auc:0.97323\n",
      "[41]\ttrain-auc:0.99697\teval-auc:0.97677\n",
      "[42]\ttrain-auc:0.99718\teval-auc:0.97929\n",
      "[43]\ttrain-auc:0.99746\teval-auc:0.97879\n",
      "[44]\ttrain-auc:0.99755\teval-auc:0.97929\n",
      "[45]\ttrain-auc:0.99767\teval-auc:0.98081\n",
      "[46]\ttrain-auc:0.99792\teval-auc:0.98131\n",
      "[47]\ttrain-auc:0.99825\teval-auc:0.98232\n",
      "[48]\ttrain-auc:0.99835\teval-auc:0.98333\n",
      "[49]\ttrain-auc:0.99844\teval-auc:0.98434\n",
      "[50]\ttrain-auc:0.99859\teval-auc:0.98434\n",
      "[51]\ttrain-auc:0.99868\teval-auc:0.98434\n",
      "[52]\ttrain-auc:0.99874\teval-auc:0.98434\n",
      "[53]\ttrain-auc:0.99884\teval-auc:0.98333\n",
      "[54]\ttrain-auc:0.99893\teval-auc:0.98283\n",
      "[55]\ttrain-auc:0.99899\teval-auc:0.98384\n",
      "[56]\ttrain-auc:0.99899\teval-auc:0.98384\n",
      "[57]\ttrain-auc:0.99908\teval-auc:0.98384\n",
      "[58]\ttrain-auc:0.99917\teval-auc:0.98434\n",
      "[59]\ttrain-auc:0.99920\teval-auc:0.98434\n",
      "[60]\ttrain-auc:0.99923\teval-auc:0.98384\n",
      "[61]\ttrain-auc:0.99923\teval-auc:0.98384\n",
      "[62]\ttrain-auc:0.99926\teval-auc:0.98535\n",
      "[63]\ttrain-auc:0.99936\teval-auc:0.98535\n",
      "[64]\ttrain-auc:0.99939\teval-auc:0.98535\n",
      "[65]\ttrain-auc:0.99942\teval-auc:0.98535\n",
      "[66]\ttrain-auc:0.99948\teval-auc:0.98535\n",
      "[67]\ttrain-auc:0.99960\teval-auc:0.98636\n",
      "[68]\ttrain-auc:0.99966\teval-auc:0.98636\n",
      "[69]\ttrain-auc:0.99966\teval-auc:0.98687\n",
      "[70]\ttrain-auc:0.99966\teval-auc:0.98737\n",
      "[71]\ttrain-auc:0.99972\teval-auc:0.98737\n",
      "[72]\ttrain-auc:0.99979\teval-auc:0.98737\n",
      "[73]\ttrain-auc:0.99985\teval-auc:0.98687\n",
      "[74]\ttrain-auc:0.99985\teval-auc:0.98687\n",
      "[75]\ttrain-auc:0.99991\teval-auc:0.98737\n",
      "[76]\ttrain-auc:0.99991\teval-auc:0.98687\n",
      "[77]\ttrain-auc:0.99994\teval-auc:0.98687\n",
      "[78]\ttrain-auc:0.99997\teval-auc:0.98687\n",
      "[79]\ttrain-auc:0.99997\teval-auc:0.98687\n",
      "[80]\ttrain-auc:0.99997\teval-auc:0.98737\n",
      "[81]\ttrain-auc:0.99997\teval-auc:0.98788\n",
      "[82]\ttrain-auc:0.99997\teval-auc:0.98838\n",
      "[83]\ttrain-auc:1.00000\teval-auc:0.98838\n",
      "[84]\ttrain-auc:1.00000\teval-auc:0.98889\n",
      "[85]\ttrain-auc:1.00000\teval-auc:0.98889\n",
      "[86]\ttrain-auc:1.00000\teval-auc:0.98939\n",
      "[87]\ttrain-auc:1.00000\teval-auc:0.98939\n",
      "[88]\ttrain-auc:1.00000\teval-auc:0.98939\n",
      "[89]\ttrain-auc:1.00000\teval-auc:0.98990\n",
      "[90]\ttrain-auc:1.00000\teval-auc:0.98939\n",
      "[91]\ttrain-auc:1.00000\teval-auc:0.98939\n",
      "[92]\ttrain-auc:1.00000\teval-auc:0.98990\n",
      "[93]\ttrain-auc:1.00000\teval-auc:0.99040\n",
      "[94]\ttrain-auc:1.00000\teval-auc:0.99040\n",
      "[95]\ttrain-auc:1.00000\teval-auc:0.98990\n",
      "[96]\ttrain-auc:1.00000\teval-auc:0.98990\n",
      "[97]\ttrain-auc:1.00000\teval-auc:0.99040\n",
      "[98]\ttrain-auc:1.00000\teval-auc:0.99141\n",
      "[99]\ttrain-auc:1.00000\teval-auc:0.99141\n"
     ]
    }
   ],
   "source": [
    "bst = xgb.train(param, q1_train_data, nr_steps, evals_result=progress, evals=evallist)"
   ]
  },
  {
   "cell_type": "code",
   "execution_count": 57,
   "id": "db49d736-f6e0-4348-889e-ffeed49322ab",
   "metadata": {},
   "outputs": [],
   "source": [
    "def save_progress(progress, file_name):\n",
    "    train_progress = progress['train']['auc']\n",
    "    eval_progress = progress['eval']['auc']\n",
    "    time_progress = range(1, len(train_progress) + 1)\n",
    "    progress_data = np.array([time_progress, train_progress, eval_progress]).transpose()\n",
    "    np.savetxt(file_name, progress_data)"
   ]
  },
  {
   "cell_type": "markdown",
   "id": "97f7afb8-6ffd-4f7e-9a9a-37dc43be580d",
   "metadata": {},
   "source": [
    "Now the trained model can be used to predict whether a document answers the question, and we can compare this to the output for the test data."
   ]
  },
  {
   "cell_type": "code",
   "execution_count": 47,
   "id": "455e5cda-7e24-4c20-8f58-9482735ed27a",
   "metadata": {},
   "outputs": [],
   "source": [
    "q1_pred_output = bst.predict(q1_test_data)"
   ]
  },
  {
   "cell_type": "code",
   "execution_count": 49,
   "id": "c3468277-fda0-41a5-aaa0-5ef1f4821534",
   "metadata": {},
   "outputs": [],
   "source": [
    "q1_test_output = np.genfromtxt('data/6-validations/QuestionID_1_target_output.txt')"
   ]
  },
  {
   "cell_type": "code",
   "execution_count": 50,
   "id": "db371596-b6df-492c-8ee4-371040c11742",
   "metadata": {},
   "outputs": [
    {
     "data": {
      "text/plain": [
       "0.040268456375838924"
      ]
     },
     "execution_count": 50,
     "metadata": {},
     "output_type": "execute_result"
    }
   ],
   "source": [
    "np.count_nonzero(q1_test_output - q1_pred_output.round(0))/len(q1_test_output)"
   ]
  },
  {
   "cell_type": "code",
   "execution_count": 53,
   "id": "eb2766a5-c04b-4819-96df-f5bc4e7876af",
   "metadata": {},
   "outputs": [],
   "source": [
    "param = {\n",
    "    'max_depth': 2,\n",
    "    'eta': 0.1,\n",
    "    'objective': 'binary:logistic',\n",
    "    'nthread': 4,\n",
    "    'eval_metric': 'auc',\n",
    "    'verbosity': 0,\n",
    "}\n",
    "nr_steps = 100"
   ]
  },
  {
   "cell_type": "code",
   "execution_count": 58,
   "id": "da052340-20a3-4977-a831-23801e8e79bc",
   "metadata": {},
   "outputs": [],
   "source": [
    "for question_id in metadata.QuestionID.unique():\n",
    "    preprocessing.train_eval(doc_vectors, metadata,\n",
    "                             'QuestionID', question_id,\n",
    "                             param, nr_steps, verbose=False)"
   ]
  },
  {
   "cell_type": "code",
   "execution_count": 60,
   "id": "009c4b98-c42c-4edc-947f-daaee6f3c48f",
   "metadata": {},
   "outputs": [],
   "source": [
    "for pillar_id in metadata.PillarID.unique():\n",
    "    preprocessing.train_eval(doc_vectors, metadata,\n",
    "                             'PillarID', pillar_id,\n",
    "                             param, nr_steps)"
   ]
  },
  {
   "cell_type": "code",
   "execution_count": 61,
   "id": "73d84077-229d-44e5-9448-67790ad96a16",
   "metadata": {},
   "outputs": [],
   "source": [
    "for subquestion_id in metadata.SubQuestionID.unique():\n",
    "    preprocessing.train_eval(doc_vectors, metadata,\n",
    "                             'SubQuestionID', subquestion_id,\n",
    "                             param, nr_steps)"
   ]
  },
  {
   "cell_type": "code",
   "execution_count": 63,
   "id": "8c89cd11-cde3-4174-888f-78347d8d8548",
   "metadata": {},
   "outputs": [],
   "source": [
    "with open('data/6-validations/test_questions_score.txt', 'w') as file:\n",
    "    print('question_id,score', file=file)\n",
    "    for question_id in sorted(metadata.QuestionID.unique()):\n",
    "        print(f\"{question_id:3d},{preprocessing.evaluate('QuestionID', question_id):.3f}\", file=file)"
   ]
  },
  {
   "cell_type": "code",
   "execution_count": 65,
   "id": "4f1c4f80-564e-487f-b694-484139c3aad2",
   "metadata": {},
   "outputs": [
    {
     "data": {
      "image/png": "[encoded data removed]",
      "text/plain": [
       "<Figure size 640x480 with 1 Axes>"
      ]
     },
     "metadata": {},
     "output_type": "display_data"
    }
   ],
   "source": [
    "preprocessing.plot_score('data/6-validations/test_questions_score.txt')"
   ]
  },
  {
   "cell_type": "code",
   "execution_count": 66,
   "id": "00ec5235-198a-4609-94ae-b95a4adc66ca",
   "metadata": {},
   "outputs": [],
   "source": [
    "with open('data/6-validations/test_pillars_score.txt', 'w') as file:\n",
    "    print('pillar_id,score', file=file)\n",
    "    for pillar_id in sorted(metadata.PillarID.unique()):\n",
    "        print(f\"{pillar_id:3d},{preprocessing.evaluate('PillarID', pillar_id):.3f}\", file=file)"
   ]
  },
  {
   "cell_type": "code",
   "execution_count": 68,
   "id": "dae8c731-9959-4561-9dca-e52a9d83b67c",
   "metadata": {},
   "outputs": [
    {
     "data": {
      "image/png": "[encoded data removed]",
      "text/plain": [
       "<Figure size 640x480 with 1 Axes>"
      ]
     },
     "metadata": {},
     "output_type": "display_data"
    }
   ],
   "source": [
    "preprocessing.plot_score('data/6-validations/test_pillars_score.txt')"
   ]
  },
  {
   "cell_type": "code",
   "execution_count": null,
   "id": "07828751-c8e6-4710-b6af-3b5a02ea2a64",
   "metadata": {},
   "outputs": [],
   "source": []
  }
 ],
 "metadata": {
  "kernelspec": {
   "display_name": "base",
   "language": "python",
   "name": "python3"
  },
  "language_info": {
   "codemirror_mode": {
    "name": "ipython",
    "version": 3
   },
   "file_extension": ".py",
   "mimetype": "text/x-python",
   "name": "python",
   "nbconvert_exporter": "python",
   "pygments_lexer": "ipython3",
   "version": "3.9.13 (main, Aug 25 2022, 18:29:29) \n[Clang 12.0.0 ]"
  },
  "vscode": {
   "interpreter": {
    "hash": "c30f2af5f468e7f5b45bcc30fca5f4886c90d54777aed916ed5f6294dfb24bf2"
   }
  }
 },
 "nbformat": 4,
 "nbformat_minor": 5
}
