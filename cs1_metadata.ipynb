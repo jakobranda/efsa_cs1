{
 "cells": [
  {
   "cell_type": "markdown",
   "id": "21019658-1690-4a2e-a6f5-43b1c4e9e76b",
   "metadata": {},
   "source": [
    "# Requirements"
   ]
  },
  {
   "cell_type": "code",
   "execution_count": 1,
   "id": "e2b6b7b9-5024-4011-ab01-bbf96489bcc1",
   "metadata": {},
   "outputs": [],
   "source": [
    "import glob\n",
    "import json\n",
    "from operator import itemgetter\n",
    "import pathlib\n",
    "import warnings"
   ]
  },
  {
   "cell_type": "markdown",
   "id": "87864a8e-b676-4977-9e77-d294f7f08eb4",
   "metadata": {},
   "source": [
    "# Article structure"
   ]
  },
  {
   "cell_type": "markdown",
   "id": "863ef2be-0e28-4cc0-b852-068e3c11ba42",
   "metadata": {},
   "source": [
    "The PDF documents have been processed by OCR software resulting in a JSON file per document.  The JSON object is a list of pages.  Each page has a list of lines, and each line has a text element."
   ]
  },
  {
   "cell_type": "code",
   "execution_count": 2,
   "id": "a1eb65a4-0056-41c4-b5e4-21011fd6d7bd",
   "metadata": {},
   "outputs": [],
   "source": [
    "with open('data/1-papers-processed/5513.json') as json_file:\n",
    "    article_json = json.load(json_file)"
   ]
  },
  {
   "cell_type": "code",
   "execution_count": 3,
   "id": "f06f890c-686c-42fc-be25-57e1a2b6fa45",
   "metadata": {},
   "outputs": [
    {
     "data": {
      "text/plain": [
       "'Pest categorisation of Pseudopityophthorus minutissimus'"
      ]
     },
     "execution_count": 3,
     "metadata": {},
     "output_type": "execute_result"
    }
   ],
   "source": [
    "article_json[0]['lines'][5]['text']"
   ]
  },
  {
   "cell_type": "markdown",
   "id": "1a44442d-11eb-48cf-9f4a-7e5bc8645785",
   "metadata": {},
   "source": [
    "# Article parser"
   ]
  },
  {
   "cell_type": "markdown",
   "id": "e7334dd3-2d04-4ed9-a9b7-3e745a1f63b2",
   "metadata": {},
   "source": [
    "We define a class that represents an article.  It's constructor will read a JSON file, and properties are defined for all the relevant metadata such as the title, authors, abstract, panel (if any), keywords (if any)."
   ]
  },
  {
   "cell_type": "code",
   "execution_count": 4,
   "id": "ab5d96c4-ee2d-4023-bd2e-62c32cf67f8a",
   "metadata": {},
   "outputs": [],
   "source": [
    "class Article:\n",
    "    \n",
    "    def __init__(self, file_name):\n",
    "        self._file_name = file_name\n",
    "        with open(file_name) as json_file:\n",
    "            self._article = json.load(json_file)\n",
    "            \n",
    "    def _line_nr_bracket(self, previous_line_start, next_line_start):\n",
    "        start_line_nr = None\n",
    "        for line_nr, line in enumerate(self._article[0]['lines']):\n",
    "            if any(map(lambda x: line['text'].startswith(x), previous_line_start)):\n",
    "                start_line_nr = line_nr + 1\n",
    "            if any(map(lambda x: line['text'].startswith(x), next_line_start)) and start_line_nr is not None:\n",
    "                end_line_nr = line_nr\n",
    "                return start_line_nr, end_line_nr\n",
    "        raise ValueError(f'object not found, markers: \"{previous_line_start}\" -> \"{next_line_start}\"')\n",
    "    \n",
    "    @property\n",
    "    def title(self):\n",
    "        try:\n",
    "            start_line_nr, end_line_nr = self._line_nr_bracket(['doi'],\n",
    "                                                               ['EFSA Panel',\n",
    "                                                                'European Food Safety Authority',\n",
    "                                                                'EFSA (European Food',\n",
    "                                                                'EFSA Food',\n",
    "                                                                'EFSA Scientific',\n",
    "                                                                'EFSA BIOHAZ',\n",
    "                                                               ])\n",
    "            return ' '.join(map(itemgetter('text'),\n",
    "                                self._article[0]['lines'][start_line_nr:end_line_nr]))\n",
    "        except ValueError:\n",
    "            raise ValueError('no title found')\n",
    "    \n",
    "    @property\n",
    "    def panel(self):\n",
    "        for line in self._article[0]['lines']:\n",
    "            if line['text'].startswith('EFSA Panel'):\n",
    "                return line['text']\n",
    "        return None\n",
    "        \n",
    "    @property\n",
    "    def authors(self):\n",
    "        try:\n",
    "            start_line_nr, end_line_nr = self._line_nr_bracket(['EFSA Panel',\n",
    "                                                                'European Food Safety Authority',\n",
    "                                                                'EFSA (European Food',\n",
    "                                                                'EFSA Food',\n",
    "                                                                'EFSA Scientific',\n",
    "                                                                'EFSA BIOHAZ',\n",
    "                                                               ],\n",
    "                                                               ['Abstract'])\n",
    "            author_str = ' '.join(map(itemgetter('text'),\n",
    "                                  self._article[0]['lines'][start_line_nr:end_line_nr]))\n",
    "            return author_str.replace(' and ', ', ').split(', ')\n",
    "        except ValueError:\n",
    "            raise ValueError('no authors found')\n",
    "            \n",
    "    @property\n",
    "    def abstract(self):\n",
    "        try:\n",
    "            start_line_nr, end_line_nr = self._line_nr_bracket(['Abstract'], ['Keywords:', 'Requestor'])\n",
    "            return ' '.join(map(itemgetter('text'),\n",
    "                                self._article[0]['lines'][start_line_nr:end_line_nr]))\n",
    "        except ValueError:\n",
    "            raise ValueError('no abstract found')\n",
    "            \n",
    "    @property\n",
    "    def keywords(self):\n",
    "        try:\n",
    "            start_line_nr, end_line_nr = self._line_nr_bracket(['Keywords:'],\n",
    "                                                               ['Requestor',\n",
    "                                                                '*',\n",
    "                                                                'www.efsa'])\n",
    "            start_line_nr -= 1  # keywords are listed on the line starts with Keywords\n",
    "            keyword_str = ' '.join(map(itemgetter('text'),\n",
    "                                   self._article[0]['lines'][start_line_nr:end_line_nr]))\n",
    "            return keyword_str.replace('Keywords: ', '').split(', ')\n",
    "        except ValueError:\n",
    "            warnings.warn(f'no keywords found for {self._file_name}')\n",
    "            return []"
   ]
  },
  {
   "cell_type": "markdown",
   "id": "8b6ca15e-9f11-4aaa-a08f-216c81b61747",
   "metadata": {},
   "source": [
    "Below is an example for one of the articles."
   ]
  },
  {
   "cell_type": "code",
   "execution_count": 5,
   "id": "ef19aa62-ce34-4e72-8213-9efbe7eaa75c",
   "metadata": {},
   "outputs": [],
   "source": [
    "article = Article('data/1-papers-processed/5513.json')"
   ]
  },
  {
   "cell_type": "code",
   "execution_count": 6,
   "id": "a88d6140-ca6f-4d6c-b973-468f240b1645",
   "metadata": {},
   "outputs": [
    {
     "data": {
      "text/plain": [
       "'Pest categorisation of Pseudopityophthorus minutissimus and P. pruinosus'"
      ]
     },
     "execution_count": 6,
     "metadata": {},
     "output_type": "execute_result"
    }
   ],
   "source": [
    "article.title"
   ]
  },
  {
   "cell_type": "code",
   "execution_count": 7,
   "id": "fea474a3-e9f4-4944-ba1b-2a971a159d94",
   "metadata": {},
   "outputs": [
    {
     "data": {
      "text/plain": [
       "'EFSA Panel on Plant Health (EFSA PLH Panel),'"
      ]
     },
     "execution_count": 7,
     "metadata": {},
     "output_type": "execute_result"
    }
   ],
   "source": [
    "article.panel"
   ]
  },
  {
   "cell_type": "code",
   "execution_count": 8,
   "id": "8e8fa10e-1066-483b-a477-4d95a397ffad",
   "metadata": {},
   "outputs": [
    {
     "data": {
      "text/plain": [
       "['Claude Bragard',\n",
       " 'Katharina Dehnen-Schmutz',\n",
       " 'Francesco Di Serio',\n",
       " 'Paolo Gonthier',\n",
       " 'Marie-Agnes Jacques',\n",
       " 'Josep Anton Jaques Miret',\n",
       " 'Annemarie Fejer Justesen',\n",
       " 'Alan MacLeod',\n",
       " 'Christer Sven Magnusson',\n",
       " 'Juan A Navas-Cortes',\n",
       " 'Stephen Parnell',\n",
       " 'Roel Potting',\n",
       " 'Philippe Lucien Reignault',\n",
       " 'Hans-Hermann Thulke',\n",
       " 'Wopke Van der Werf',\n",
       " 'Antonio Vicent Civera',\n",
       " 'Jonathan Yuen',\n",
       " 'Lucia Zappala',\n",
       " 'Jean-Claude Gr egoire',\n",
       " 'Vir ag Kert esz',\n",
       " 'Panagiotis Milonas']"
      ]
     },
     "execution_count": 8,
     "metadata": {},
     "output_type": "execute_result"
    }
   ],
   "source": [
    "article.authors"
   ]
  },
  {
   "cell_type": "code",
   "execution_count": 9,
   "id": "27cf8887-460c-4e9f-9f82-1bc082f2d03c",
   "metadata": {},
   "outputs": [
    {
     "data": {
      "text/plain": [
       "'The Panel on Plant Health performed a pest categorisation of Pseudopityophthorus minutissimus and Pseudopityophthorus pruinosus, two well-defined insect species in the family Curculionidae, subfamily Scolytinae (Insecta: Coleoptera). They can be identified using taxonomic keys. P. minutissimus is present in parts of Canada and the USA, and P. pruinosus is present in parts of the USA, Guatemala, Honduras and Mexico. The main host plants of the two species are Quercus spp., but they also attack several other genera. The two species mostly colonise weakened or dead branches but can also attack the stems. They are mostly secondary pests but they vector the oak wilt fungus, Bretziella fagacearum, which causes heavy damage in American Quercus spp. populations. The fungus is mainly transmitted by the young adults during their maturation feeding on twigs, leaf petioles and young acorn stems. The beetles are polygamous and have two generations per year in most of their range. The main pathways are wood, bark, plants for planting, cut branches, chips and wood waste. These pathways are fully or partly regulated for the genera Quercus, Castanea and Prunus. However, the pathways are not regulated for the following genera: Carpinus, Fagus, Hamamelis, Alnus. P. minutissimus and P. pruinosus meet all the criteria assessed by EFSA for consideration as potential Union quarantine pest. The criteria for considering P. minutissimus and P. pruinosus as potential Union regulated non-quarantine pests are not met since neither species are known to be present in the EU. © 2019 European Food Safety Authority. EFSA Journal published by John Wiley and Sons Ltd on behalf of European Food Safety Authority.'"
      ]
     },
     "execution_count": 9,
     "metadata": {},
     "output_type": "execute_result"
    }
   ],
   "source": [
    "article.abstract"
   ]
  },
  {
   "cell_type": "code",
   "execution_count": 10,
   "id": "3b30dc60-4e9e-404e-96cc-882e8883fb6a",
   "metadata": {},
   "outputs": [
    {
     "data": {
      "text/plain": [
       "['Bretziella fagacearum',\n",
       " 'European Union',\n",
       " 'oak bark beetle',\n",
       " 'pest risk',\n",
       " 'plant health',\n",
       " 'plant pest',\n",
       " 'quarantine']"
      ]
     },
     "execution_count": 10,
     "metadata": {},
     "output_type": "execute_result"
    }
   ],
   "source": [
    "article.keywords"
   ]
  },
  {
   "cell_type": "markdown",
   "id": "ea2716a9-79ed-4b4e-9ce9-b0859eccd161",
   "metadata": {},
   "source": [
    "We can now define a function that takes a file name as an argument, and returns a JSON representation of the metadata."
   ]
  },
  {
   "cell_type": "code",
   "execution_count": 11,
   "id": "e869e5f1-178b-492d-a0cc-23061f1c1be3",
   "metadata": {},
   "outputs": [],
   "source": [
    "def extract_metadata(file_name):\n",
    "    article = Article(file_name)\n",
    "    metadata = {\n",
    "        'title': article.title,\n",
    "        'authors': article.authors,\n",
    "        'panel': article.panel,\n",
    "        'abstract': article.abstract,\n",
    "        'keywords': article.keywords,\n",
    "    }\n",
    "    return json.dumps(metadata, indent=2)"
   ]
  },
  {
   "cell_type": "markdown",
   "id": "de27ac72-12f8-4f4d-b56b-b42a3e34f022",
   "metadata": {},
   "source": [
    "For example:"
   ]
  },
  {
   "cell_type": "code",
   "execution_count": 15,
   "id": "2972bbdf-a0d6-44cf-857d-f9e213605bc2",
   "metadata": {},
   "outputs": [
    {
     "name": "stdout",
     "output_type": "stream",
     "text": [
      "{\n",
      "  \"title\": \"Safety assessment of the process \\u2018POLY RECYCLING PET DIRECT IV+\\u2019, used to recycle post-consumer PET into food contact materials\",\n",
      "  \"authors\": [\n",
      "    \"Vittorio Silano\",\n",
      "    \"Jose Manuel Barat Baviera\",\n",
      "    \"Claudia Bolognesi\",\n",
      "    \"Andrew Chesson\",\n",
      "    \"Pier Sandro Cocconcelli\",\n",
      "    \"Riccardo Crebelli\",\n",
      "    \"David Michael Gott\",\n",
      "    \"Konrad Grob\",\n",
      "    \"Alicja Mortensen\",\n",
      "    \"Gilles Riviere\",\n",
      "    \"Inger-Lise Steffensen\",\n",
      "    \"Christina Tlustos\",\n",
      "    \"Henk Van Loveren\",\n",
      "    \"Laurence Vernis\",\n",
      "    \"Holger Zorn\",\n",
      "    \"Vincent Dudler\",\n",
      "    \"Maria Rosaria Milana\",\n",
      "    \"Constantine Papaspyrides\",\n",
      "    \"Maria de Fatima Tavares Poc as\",\n",
      "    \"Cristina Croera\",\n",
      "    \"Evgenia Lampi\"\n",
      "  ],\n",
      "  \"panel\": \"EFSA Panel on Food Contact Materials, Enzymes and Processing Aids (CEP),\",\n",
      "  \"abstract\": \"The EFSA Panel on Food Contact Materials, Enzymes and Processing Aids (CEP Panel) assessed the recycling process POLY RECYCLING PET direct IV+ (EU register number RECYC161). The input is hot caustic washed and dried poly(ethylene terephthalate) (PET) flakes originating from collected post- consumer food contact PET containing no more than 5% of PET from non-food consumer applications. The flakes are extruded to pellets, which are then further crystallised. Crystallised pellets are then preheated and fed into the solid-state polycondensation (SSP) reactor. Having examined the challenge test provided, the Panel concluded that the three steps, extrusion, crystallisation and SSP, are critical in determining the decontamination efficiency of the process. The operating parameters that control their performance are well defined: temperature, gas flow, pressure and residence time. It was demonstrated that this recycling process is able to ensure that the level of migration of potential unknown contaminants into food is below the conservatively modelled migration of 0.1 lg/kg food. Therefore, the Panel concluded that the recycled PET obtained from this process, intended to be used at up to 100% for the manufacture of materials and articles for contact with all types of foodstuffs for long-term storage at room temperature, with or without hotfill, is not considered of safety concern. Trays made of this recycled PET are not intended to be used in microwave and conventional ovens, and such use is not covered by this evaluation. \\u00a9 2019 European Food Safety Authority. EFSA Journal published by John Wiley and Sons Ltd on behalf of European Food Safety Authority.\",\n",
      "  \"keywords\": [\n",
      "    \"PET direct IV+\",\n",
      "    \"Poly Recycling\",\n",
      "    \"food contact materials\",\n",
      "    \"plastic\",\n",
      "    \"poly (ethylene terephthalate) (PET)\",\n",
      "    \"recycling process\",\n",
      "    \"safety assessment\"\n",
      "  ]\n",
      "}\n"
     ]
    }
   ],
   "source": [
    "print(extract_metadata('data/1-papers-processed/5865.json'))"
   ]
  },
  {
   "cell_type": "markdown",
   "id": "8527aa2e-ed10-4850-8816-2a7827fe3046",
   "metadata": {},
   "source": [
    "# Processing"
   ]
  },
  {
   "cell_type": "markdown",
   "id": "2800ea3a-3534-4f11-af68-ad6f08616b76",
   "metadata": {},
   "source": [
    "We can now create the JSON files containing the metadata for each of the articles."
   ]
  },
  {
   "cell_type": "code",
   "execution_count": 13,
   "id": "9c28c225-4d4f-479e-8655-1c52409acda3",
   "metadata": {},
   "outputs": [],
   "source": [
    "metadata_dir = pathlib.Path('data/3-papers-metadata')\n",
    "metadata_dir.mkdir()"
   ]
  },
  {
   "cell_type": "code",
   "execution_count": 14,
   "id": "e9d6b072-c860-4523-9bed-c41ac963e8bf",
   "metadata": {},
   "outputs": [
    {
     "name": "stderr",
     "output_type": "stream",
     "text": [
      "/var/folders/wr/1f7fffq165jgc8g39gwlstlc0000gn/T/ipykernel_29719/1371400429.py:79: UserWarning: no keywords found for data/1-papers-processed/5867.json\n",
      "  warnings.warn(f'no keywords found for {self._file_name}')\n"
     ]
    },
    {
     "name": "stdout",
     "output_type": "stream",
     "text": [
      "data/1-papers-processed/6041.json: no title found\n",
      "1 problems\n"
     ]
    }
   ],
   "source": [
    "count = 0\n",
    "for file_name in sorted(glob.glob('data/1-papers-processed/*.json')):\n",
    "    json_file = pathlib.Path(file_name)\n",
    "    try:\n",
    "        json_str = extract_metadata(file_name)\n",
    "        with open(metadata_dir / json_file.name, 'w') as metadata_file:\n",
    "            print(json_str, file=metadata_file)\n",
    "    except Exception as e:\n",
    "        print(f'{file_name}: {e}')\n",
    "        count += 1\n",
    "print(f'{count} problems')"
   ]
  }
 ],
 "metadata": {
  "kernelspec": {
   "display_name": "efsa_streamlit",
   "language": "python",
   "name": "python3"
  },
  "language_info": {
   "codemirror_mode": {
    "name": "ipython",
    "version": 3
   },
   "file_extension": ".py",
   "mimetype": "text/x-python",
   "name": "python",
   "nbconvert_exporter": "python",
   "pygments_lexer": "ipython3",
   "version": "3.9.13"
  },
  "vscode": {
   "interpreter": {
    "hash": "73e8df634a3793305af433f2e85cc49d8c50ede7c6120a45c701fa13363301f3"
   }
  }
 },
 "nbformat": 4,
 "nbformat_minor": 5
}
